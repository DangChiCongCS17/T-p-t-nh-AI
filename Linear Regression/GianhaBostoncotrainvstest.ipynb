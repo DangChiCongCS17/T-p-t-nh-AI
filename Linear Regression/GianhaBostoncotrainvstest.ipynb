{
 "cells": [
  {
   "cell_type": "code",
   "execution_count": 2,
   "metadata": {},
   "outputs": [],
   "source": [
    "import pandas as pd\n",
    "import numpy as np\n",
    "import matplotlib.pyplot as plt\n",
    "from sklearn.linear_model import LinearRegression\n",
    "from sklearn.datasets import load_boston\n",
    "from sklearn.model_selection import train_test_split\n",
    "from sklearn.metrics import mean_squared_error\n",
    "from sklearn.preprocessing import StandardScaler\n",
    "from sklearn.metrics import r2_score"
   ]
  },
  {
   "cell_type": "code",
   "execution_count": 5,
   "metadata": {},
   "outputs": [],
   "source": [
    "boston_data = load_boston()"
   ]
  },
  {
   "cell_type": "code",
   "execution_count": 6,
   "metadata": {},
   "outputs": [],
   "source": [
    "def load_boston_data():\n",
    "    df = pd.DataFrame(boston_data.data)\n",
    "    df.columns = boston_data.feature_names\n",
    "    df['PRICE'] = boston_data.target\n",
    "    return df"
   ]
  },
  {
   "cell_type": "code",
   "execution_count": 7,
   "metadata": {},
   "outputs": [],
   "source": [
    "def split_dataset(X, y):\n",
    "    # scale data to reduce risk of runtime time error\n",
    "    scalerx = StandardScaler()\n",
    "    scalery = StandardScaler()\n",
    "    X_scaled = scalerx.fit_transform(X)\n",
    "    y_scaled = scalery.fit_transform(y)\n",
    "\n",
    "    # split dataset into train and test\n",
    "    X_train, X_test, y_train, y_test = train_test_split(X_scaled, y_scaled)\n",
    "    return X_train, X_test, y_train, y_test"
   ]
  },
  {
   "cell_type": "code",
   "execution_count": 30,
   "metadata": {},
   "outputs": [],
   "source": [
    "#create linear regression model\n",
    "class MyLinearRegression:\n",
    "    def __init__(self, eta, iter) -> None:\n",
    "        self.eta = eta\n",
    "        self.iter = iter\n",
    "\n",
    "    def fitting_line(self, X, y):\n",
    "        # define total size\n",
    "        self.n_features = X.shape[1] if len(X.shape) > 1 else 1 \n",
    "        train_size = len(X)\n",
    "\n",
    "        # normalize the format of dimension of dataset but keep it fit with the original dim\n",
    "        X = X.reshape(-1, self.n_features)\n",
    "        y = y.reshape([-1, 1])\n",
    "\n",
    "        # add bias to X\n",
    "        one = np.ones([train_size, 1])\n",
    "        X = np.concatenate([X, one], 1)\n",
    "        \n",
    "        # create initial weight\n",
    "        self.weight = np.zeros([self.n_features + 1, 1])\n",
    "\n",
    "        # print training infor:\n",
    "        print('x shape: ', X.shape)\n",
    "        print('y shape: ', y.shape)\n",
    "        print('weight shape: ', self.weight.shape)\n",
    "        print('train_size: ', train_size)\n",
    "        \n",
    "        # save all loss in one list\n",
    "        self.train_loss = []\n",
    "        \n",
    "        # training\n",
    "        for i in range(self.iter):\n",
    "            loss =  (0.5 / self.n_features) * np.linalg.norm((y - np.dot(X, self.weight))) ** 2\n",
    "            gradient = (1 / self.n_features) * np.dot(X.T, ( np.dot(X, self.weight) - y))\n",
    "            \n",
    "            # update weight\n",
    "            self.weight = self.weight - (self.eta / train_size) * gradient\n",
    "            \n",
    "            # calculate average loss\n",
    "            loss = loss / train_size\n",
    "            self.train_loss.append(loss.item())\n",
    "    def predict(self, X):\n",
    "        #normalization\n",
    "        X = X.reshape(-1, self.n_features)\n",
    "        \n",
    "        # add bias\n",
    "        one = np.ones([len(X), 1])\n",
    "        X = np.concatenate([X, one], 1)\n",
    "        \n",
    "        # dot product to calculate y_hat\n",
    "        y_hat = np.dot(X, self.weight)\n",
    "        return y_hat\n",
    "\n",
    "    def get_train_loss(self):\n",
    "        return self.train_loss\n",
    "\n",
    "    def get_weight(self):\n",
    "        return self.weight\n",
    "\n",
    "    def PrintMe(self):\n",
    "        print(f\"Weights found after {self.iter} epoch:\\n \", self.weight)\n",
    "        print(\"Loss = \", self.train_loss[-1])\n",
    "        print(\"\\n\")\n",
    "    \n",
    "    def DrawingLosses(self):\n",
    "        print(\"drawing loss function: \")\n",
    "        plt.plot(self.train_loss)\n",
    "        plt.xlabel('Epoch')\n",
    "        plt.ylabel('Loss')\n",
    "        plt.show()\n",
    "    "
   ]
  },
  {
   "cell_type": "code",
   "execution_count": 31,
   "metadata": {},
   "outputs": [],
   "source": [
    "def Model1():\n",
    "    print(\"Testing with 1 column RM --- Model 1\")\n",
    "    print(\"-------------------------------------\")\n",
    "    # testing with one column\n",
    "    # choose RM because it is linear\n",
    "\n",
    "    X = boston_data.data[:, 5, np.newaxis] \n",
    "    y = boston_data.target[:, np.newaxis]\n",
    "    X_train, X_test, y_train, y_test = split_dataset(X, y)\n",
    "    \n",
    "    # test split_dataset function\n",
    "    print(X_train.shape)\n",
    "    print(X_test.shape)\n",
    "    print(y_train.shape)\n",
    "    print(y_test.shape)\n",
    "\n",
    "    # training using GD\n",
    "    model1 = MyLinearRegression(0.1, 1000)\n",
    "    model1.fitting_line(X_train, y_train)\n",
    "    \n",
    "    # display result:\n",
    "    model1.PrintMe()\n",
    "\n",
    "    # recheck with sklearn library  \n",
    "    CheckingModel(X_train, y_train, X_test, y_test)\n",
    "\n",
    "    # drawing losses\n",
    "    model1.DrawingLosses()"
   ]
  },
  {
   "cell_type": "code",
   "execution_count": 32,
   "metadata": {},
   "outputs": [],
   "source": [
    "def Model2():\n",
    "    print(\"Testing with multiple columns --- Model 2\")\n",
    "    print(\"------------------------------------------\")\n",
    "    # testing on multivariable function\n",
    "    # many columns\n",
    "    df = load_boston_data()\n",
    "    features = df.drop('PRICE', axis = 1)\n",
    "    target = df['PRICE']\n",
    "    # change to numpy array\n",
    "    X = features.to_numpy().reshape(len(features), len(features.columns))\n",
    "    y = target.to_numpy().reshape(target.shape[0], 1)\n",
    "    X_train, X_test, y_train, y_test = split_dataset(X, y)\n",
    "\n",
    "    # test split_dataset function\n",
    "    print(\"train set and test set size: \")\n",
    "    print(X_train.shape)\n",
    "    print(X_test.shape)\n",
    "    print(y_train.shape)\n",
    "    print(y_test.shape)\n",
    "\n",
    "    # training\n",
    "    model2 = MyLinearRegression(0.1, 1000)\n",
    "    model2.fitting_line(X_train, y_train)\n",
    "\n",
    "    # display result\n",
    "    model2.PrintMe()\n",
    "\n",
    "    # recheck with sklearn library  \n",
    "    CheckingModel(X_train, y_train, X_test, y_test)\n",
    "\n",
    "    # drawing losses\n",
    "    model2.DrawingLosses()"
   ]
  },
  {
   "cell_type": "code",
   "execution_count": 33,
   "metadata": {},
   "outputs": [],
   "source": [
    "def CheckingModel(X_train, y_train, X_test, y_test):\n",
    "    print(\"****** recheck with Sklearn: \")\n",
    "    test_model = LinearRegression()\n",
    "    test_model.fit(X_train, y_train)\n",
    "    y_hat = test_model.predict(X_test)\n",
    "    mse = mean_squared_error(y_hat, y_test)\n",
    "    print(\"Weights: \", test_model.coef_, test_model.intercept_)\n",
    "    print(\"Loss = \", mse)"
   ]
  },
  {
   "cell_type": "code",
   "execution_count": 34,
   "metadata": {},
   "outputs": [],
   "source": [
    "def main():\n",
    "    Model1()\n",
    "    #Model2()\n",
    "    #Sklearn_Recheck()"
   ]
  },
  {
   "cell_type": "code",
   "execution_count": 35,
   "metadata": {},
   "outputs": [
    {
     "name": "stdout",
     "output_type": "stream",
     "text": [
      "Testing with 1 column RM --- Model 1\n",
      "-------------------------------------\n",
      "(379, 1)\n",
      "(127, 1)\n",
      "(379, 1)\n",
      "(127, 1)\n",
      "x shape:  (379, 2)\n",
      "y shape:  (379, 1)\n",
      "weight shape:  (2, 1)\n",
      "train_size:  379\n",
      "Weights found after 1000 epoch:\n",
      "  [[ 0.73247912]\n",
      " [-0.00389594]]\n",
      "Loss =  0.23312130961408592\n",
      "\n",
      "\n",
      "****** recheck with Sklearn: \n",
      "Weights:  [[0.73247912]] [-0.00389594]\n",
      "Loss =  0.6719293735060194\n",
      "drawing loss function: \n"
     ]
    },
    {
     "data": {
      "image/png": "[encoded data removed]",
      "text/plain": [
       "<Figure size 432x288 with 1 Axes>"
      ]
     },
     "metadata": {
      "needs_background": "light"
     },
     "output_type": "display_data"
    }
   ],
   "source": [
    "if __name__ == \"__main__\":\n",
    "    main()\n"
   ]
  },
  {
   "cell_type": "code",
   "execution_count": null,
   "metadata": {},
   "outputs": [],
   "source": []
  }
 ],
 "metadata": {
  "kernelspec": {
   "display_name": "Python 3.7.7 64-bit ('myenv': conda)",
   "language": "python",
   "name": "python37764bitmyenvconda35ccc6ceb6994a13aa3836784a552884"
  },
  "language_info": {
   "codemirror_mode": {
    "name": "ipython",
    "version": 3
   },
   "file_extension": ".py",
   "mimetype": "text/x-python",
   "name": "python",
   "nbconvert_exporter": "python",
   "pygments_lexer": "ipython3",
   "version": "3.7.7"
  }
 },
 "nbformat": 4,
 "nbformat_minor": 4
}
